!pip install gtts
!pip install ipywidgets nest_asyncio
!pip install openai==0.28

import openai
import asyncio
import requests
from gtts import gTTS
from IPython.display import display, Audio, clear_output
import ipywidgets as widgets
import nest_asyncio
import logging

# Applying nested asyncio for Colab
nest_asyncio.apply()

# Logging Configuration
logging.basicConfig(
    level=logging.DEBUG,
    format='%(asctime)s [%(levelname)s] %(message)s',
    handlers=[
        logging.StreamHandler()
    ])

# API Keys
openai.api_key = "openai_key"

WEATHER_API_KEY = "weather_key"
NEWS_API_KEY = "news_api"
GEOCODER_API_KEY ="geocoder_api"

# Functions to fetch data
async def fetch_weather_async(city):
    """Fetch weather information for a city."""
    try:
        url = f"http://api.openweathermap.org/data/2.5/weather?q={city}&appid={WEATHER_API_KEY}&units=metric"
        response = await asyncio.to_thread(requests.get, url, timeout=5)
        response.raise_for_status()
        data = response.json()
        weather = data["weather"][0]["description"]
        temp = data["main"]["temp"]
        return f"The weather in {city} is {weather} with a temperature of {temp}°C."
    except Exception as e:
        return f"Error fetching weather: {e}"

async def fetch_news_async():
    """Fetch top news headlines."""
    try:
        url = f"https://newsapi.org/v2/top-headlines?country=us&apiKey={NEWS_API_KEY}"
        response = await asyncio.to_thread(requests.get, url, timeout=5)
        response.raise_for_status()
        articles = response.json().get("articles", [])[:5]
        if not articles:
            return "No news articles found."
        return "Here are the top news headlines:\n" + "\n".join(
            [f"{i+1}. {a['title']}" for i, a in enumerate(articles)]
        )
    except Exception as e:
        return f"Error fetching news: {e}"

async def fetch_location_async(location):
    """Fetch timezone information for a given location."""
    try:
        url = f"https://api.opencagedata.com/geocode/v1/json?q={location}&key={GEOCODER_API_KEY}"
        response = await asyncio.to_thread(requests.get, url, timeout=5)
        response.raise_for_status()
        data = response.json()
        if data["results"]:
            timezone = data["results"][0]["annotations"]["timezone"]["name"]
            return f"The timezone for {location} is {timezone}."
        else:
            return f"No timezone information found for {location}."
    except Exception as e:
        return f"Error fetching location: {e}"

def speak_with_gtts(text):
    """Use gTTS to convert text to speech and play audio."""
    try:
        tts = gTTS(text=text, lang="en")
        tts.save("response.mp3")
        display(Audio("response.mp3", autoplay=True))
    except Exception as e:
        logging.error(f"Error in TTS: {e}")

async def process_user_input(user_input):
    """Process user input to respond appropriately."""
    if user_input.lower() in ["exit", "quit"]:
        speak_with_gtts("Goodbye!")
        display(widgets.HTML("<b>Assistant: Goodbye!</b>"))
        return False

    if "weather" in user_input.lower():
        result = await fetch_weather_async("Liepaja")
    elif "news" in user_input.lower():
        result = await fetch_news_async()
    elif "timezone" in user_input.lower():
        location = user_input.replace("timezone", "").strip() or "Liepaja"
        result = await fetch_location_async(location)
    else:
        result = "I'm sorry, I can help with weather, news, or timezone information at the moment."

    speak_with_gtts(result)
    display(widgets.HTML(f"<b>Assistant:</b> {result}"))
    return True

def create_colab_ui():
    """Create the user interface for the assistant in Colab."""
    input_box = widgets.Text(
        placeholder="Type your message here...",
        description="You:",
        layout=widgets.Layout(width='100%')
    )
    output_box = widgets.Output()

    def on_submit(change):
        with output_box:
            clear_output(wait=True)
            user_message = input_box.value
            input_box.value = ""
            asyncio.run(process_user_input(user_message))

    input_box.on_submit(on_submit)

    display(widgets.VBox([input_box, output_box]))

# Main
if __name__ == "__main__":
    speak_with_gtts("Welcome! Ask me about the weather, news, or timezone information.")
    create_colab_ui()
